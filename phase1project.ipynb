{
 "cells": [
  {
   "cell_type": "code",
   "execution_count": null,
   "id": "175ba8e9-0176-4cb9-bbb9-84807cb76975",
   "metadata": {},
   "outputs": [],
   "source": [
    "import pandas as pd\n",
    "import numpy as np\n",
    "import matplotlib.pyplot as plt\n",
    "import seaborn as sns"
   ]
  },
  {
   "cell_type": "code",
   "execution_count": null,
   "id": "2fc92087-400f-41d5-ae32-53bb298757cf",
   "metadata": {},
   "outputs": [],
   "source": [
    "df = pd.read_csv('AviationData.csv')\n",
    "df.head()"
   ]
  },
  {
   "cell_type": "code",
   "execution_count": null,
   "id": "f184a143-4ea8-4bea-af65-7a28c998dde3",
   "metadata": {},
   "outputs": [],
   "source": [
    "df.info()"
   ]
  },
  {
   "cell_type": "code",
   "execution_count": null,
   "id": "9b89f9ff-ed14-4d01-8714-35f595321e4c",
   "metadata": {},
   "outputs": [],
   "source": [
    "df.describe()"
   ]
  },
  {
   "cell_type": "code",
   "execution_count": null,
   "id": "d759d148-f39f-48aa-99ae-b0bbf552e3b4",
   "metadata": {},
   "outputs": [],
   "source": [
    "# Check for missing values\n",
    "missing_values = df.isnull().sum()\n",
    "print(\"Missing values:\\n\", missing_values)"
   ]
  },
  {
   "cell_type": "code",
   "execution_count": null,
   "id": "a41448df-1f29-4398-a112-52df94abf7fb",
   "metadata": {},
   "outputs": [],
   "source": [
    "# Handle missing values\n",
    "for column in df.columns:\n",
    "    if df[column].dtype in ['int64', 'float64']:\n",
    "        df[column] = df[column].fillna(df[column].mean())\n",
    "    else: \n",
    "        df[column] = df[column].fillna('Unknown')"
   ]
  },
  {
   "cell_type": "code",
   "execution_count": null,
   "id": "871029d7-67ee-4006-a522-b5dfacd7af09",
   "metadata": {},
   "outputs": [],
   "source": [
    "#set data types\n",
    "for column in df.columns:\n",
    "    if df[column].dtype in ['int64', 'float64']:\n",
    "        df[column] = df[column].astype(float) \n",
    "    else: \n",
    "        df[column] = df[column].astype(str) \n"
   ]
  },
  {
   "cell_type": "code",
   "execution_count": null,
   "id": "a9797f8b-9d80-415e-b647-659e1f7902c4",
   "metadata": {},
   "outputs": [],
   "source": [
    "# Check column data types\n",
    "print(df.dtypes)\n",
    "\n",
    "# Detect columns with mixed types\n",
    "for column in df.columns:\n",
    "    unique_types = df[column].apply(type).unique()\n",
    "    if len(unique_types) > 1:\n",
    "        print(f\"Column '{column}' has mixed types: {unique_types}\")"
   ]
  },
  {
   "cell_type": "code",
   "execution_count": null,
   "id": "eaa21be0-18de-46e1-8419-404aa98bb587",
   "metadata": {},
   "outputs": [],
   "source": [
    "# Convert numerical columns to float and others to string\n",
    "for column in df.columns:\n",
    "    if df[column].dtype in ['int64', 'float64']:\n",
    "        df[column] = pd.to_numeric(df[column], errors='coerce')\n",
    "    else:\n",
    "        df[column] = df[column].astype(str)\n"
   ]
  },
  {
   "cell_type": "code",
   "execution_count": null,
   "id": "2010e1fb-af74-4d2e-9007-9e86ded55597",
   "metadata": {},
   "outputs": [],
   "source": [
    "# Remove duplicates\n",
    "df = df.drop_duplicates()"
   ]
  },
  {
   "cell_type": "code",
   "execution_count": null,
   "id": "0de6cdc7-9e5c-471b-9089-925da55ac21f",
   "metadata": {},
   "outputs": [],
   "source": [
    "# Converting Event.Date to datetime and extract year\n",
    "df['Event.Date'] = pd.to_datetime(df['Event.Date'], errors='coerce')\n",
    "df['Year'] = df['Event.Date'].dt.year\n",
    "\n",
    "# Count of accidents per year\n",
    "accident_trends = df.groupby('Year')['Event.Id'].count().reset_index()\n",
    "accident_trends.rename(columns={'Event.Id': 'Accident_Count'}, inplace=True)\n",
    "accident_trends.head()"
   ]
  },
  {
   "cell_type": "code",
   "execution_count": null,
   "id": "e14ddc91-f65a-44d4-b54d-f75cdeed17d1",
   "metadata": {},
   "outputs": [],
   "source": [
    "import matplotlib.pyplot as plt\n",
    "\n",
    "# Plot accident trends over time\n",
    "plt.figure(figsize=(10, 6))\n",
    "plt.plot(accident_trends['Year'], accident_trends['Accident_Count'], marker='o')\n",
    "plt.title('Accidents Over Time')\n",
    "plt.xlabel('Year')\n",
    "plt.ylabel('Number of Accidents')\n",
    "plt.grid(True)\n",
    "plt.show()"
   ]
  },
  {
   "cell_type": "code",
   "execution_count": null,
   "id": "b3382b7a-8f1c-445e-a328-3d48b9909a00",
   "metadata": {},
   "outputs": [],
   "source": [
    "# Count of accidents by location\n",
    "location_accidents = df.groupby('Location')['Event.Id'].count().reset_index()\n",
    "location_accidents.rename(columns={'Event.Id': 'Accident_Count'}, inplace=True)\n",
    "\n",
    "# Display top 10 locations with the most accidents\n",
    "top_locations = location_accidents.sort_values(by='Accident_Count', ascending=False).head(10)\n",
    "print(top_locations)"
   ]
  },
  {
   "cell_type": "code",
   "execution_count": null,
   "id": "a0079254-1a6e-404d-8c5d-df039e68ab7f",
   "metadata": {},
   "outputs": [],
   "source": [
    "# Bar chart for top accident locations\n",
    "plt.figure(figsize=(12, 6))\n",
    "plt.bar(top_locations['Location'], top_locations['Accident_Count'], color='skyblue')\n",
    "plt.title('Top 10 Accident Locations')\n",
    "plt.xlabel('Location')\n",
    "plt.ylabel('Number of Accidents')\n",
    "plt.show()"
   ]
  },
  {
   "cell_type": "code",
   "execution_count": null,
   "id": "1245fa5e-095c-46e8-89fd-b79bdc1d5a58",
   "metadata": {},
   "outputs": [],
   "source": [
    "# Group fatalities by weather condition\n",
    "fatalities_by_weather = df.groupby('Weather.Condition')['Total.Fatal.Injuries'].sum().reset_index()\n",
    "\n",
    "print(fatalities_by_weather)"
   ]
  },
  {
   "cell_type": "code",
   "execution_count": null,
   "id": "57ad7573-9087-4bfa-b18f-16b1a52f3523",
   "metadata": {},
   "outputs": [],
   "source": [
    "# Bar chart for fatalities by weather condition\n",
    "plt.figure(figsize=(10, 6))\n",
    "plt.bar(fatalities_by_weather['Weather.Condition'], fatalities_by_weather['Total.Fatal.Injuries'], color='orange')\n",
    "plt.title('Fatalities by Weather Condition')\n",
    "plt.xlabel('Weather Condition')\n",
    "plt.ylabel('Total Fatalities')\n",
    "plt.show()"
   ]
  },
  {
   "cell_type": "code",
   "execution_count": null,
   "id": "963cfb74-d3e4-43e5-b87b-725de12c9dd3",
   "metadata": {},
   "outputs": [],
   "source": [
    "import matplotlib.pyplot as plt\n",
    "\n",
    "# Scatter plot for accident locations\n",
    "plt.figure(figsize=(10, 6))\n",
    "plt.scatter(df['Longitude'], df['Latitude'], alpha=0.5, c='red', label='Accidents')\n",
    "plt.title('Accident Locations')\n",
    "plt.xlabel('Longitude')\n",
    "plt.ylabel('Latitude')\n",
    "plt.legend()\n",
    "plt.show()"
   ]
  },
  {
   "cell_type": "code",
   "execution_count": null,
   "id": "8071ad1b-7fa0-4d6d-a99c-c0557040eeda",
   "metadata": {},
   "outputs": [],
   "source": [
    "# Count accidents by flight phase\n",
    "flight_phase = df.groupby('Broad.phase.of.flight')['Event.Id'].count().reset_index()\n",
    "flight_phase.rename(columns={'Event.Id': 'Accident_Count'}, inplace=True)\n",
    "\n",
    "flight_phase()"
   ]
  },
  {
   "cell_type": "code",
   "execution_count": null,
   "id": "93f89fd9-1e74-4010-9be1-ba532829314b",
   "metadata": {},
   "outputs": [],
   "source": [
    "plt.figure(figsize=(8, 8))\n",
    "plt.pie(flight_phase['Accident_Count'], labels=flight_phase['Broad.phase.of.flight'], autopct='%1.1f%%')\n",
    "plt.title('Accidents by Flight Phase')\n",
    "plt.show()"
   ]
  },
  {
   "cell_type": "code",
   "execution_count": null,
   "id": "cfaf6a57-baae-4ada-9c62-b8cd24936259",
   "metadata": {},
   "outputs": [],
   "source": []
  }
 ],
 "metadata": {
  "kernelspec": {
   "display_name": "Python 3 (ipykernel)",
   "language": "python",
   "name": "python3"
  },
  "language_info": {
   "codemirror_mode": {
    "name": "ipython",
    "version": 3
   },
   "file_extension": ".py",
   "mimetype": "text/x-python",
   "name": "python",
   "nbconvert_exporter": "python",
   "pygments_lexer": "ipython3",
   "version": "3.12.7"
  }
 },
 "nbformat": 4,
 "nbformat_minor": 5
}
